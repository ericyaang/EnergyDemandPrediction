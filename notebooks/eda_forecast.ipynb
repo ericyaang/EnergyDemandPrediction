{
 "cells": [
  {
   "cell_type": "markdown",
   "metadata": {
    "colab": {
     "base_uri": "https://localhost:8080/"
    },
    "id": "xGYy5AQlAw-f",
    "outputId": "1322e814-bd02-4448-d4e7-7bd03a447b9e"
   },
   "source": [
    "# EDA - Previsão de Energia"
   ]
  },
  {
   "cell_type": "code",
   "execution_count": 1,
   "metadata": {
    "id": "9Pxmhn4kFbHf"
   },
   "outputs": [],
   "source": [
    "import os\n",
    "import duckdb\n",
    "import numpy as np\n",
    "import pandas as pd\n",
    "import seaborn as sns\n",
    "from unidecode import unidecode\n",
    "from datetime import timedelta"
   ]
  },
  {
   "cell_type": "code",
   "execution_count": 2,
   "metadata": {
    "id": "WCS7njdGDknF"
   },
   "outputs": [],
   "source": [
    "pd.set_option('display.max_columns', None)"
   ]
  },
  {
   "cell_type": "code",
   "execution_count": 3,
   "metadata": {
    "colab": {
     "base_uri": "https://localhost:8080/",
     "height": 176
    },
    "id": "V1Tod4ggCNwL",
    "outputId": "53b2aaaf-951f-4e55-863d-eaa4cd7c1164"
   },
   "outputs": [],
   "source": [
    "os.chdir('../')"
   ]
  },
  {
   "cell_type": "markdown",
   "metadata": {},
   "source": [
    "## Leitura dos dados\n",
    "Lê todos os parquets ignorando a colunas `CNAE`, pois a mesma não está presente em alguns arquivos. "
   ]
  },
  {
   "cell_type": "code",
   "execution_count": 4,
   "metadata": {},
   "outputs": [],
   "source": [
    "create_table_sql = \"\"\"\n",
    "    SELECT \n",
    "        \"CNPJ da Carga\" AS cnpj_carga, \n",
    "        \"Capacidade da Carga (MW)\" AS capacidade_carga_mw, \n",
    "        \"Carga\" AS carga, \n",
    "        \"Cidade\" AS cidade,\n",
    "        \"Classe do perfil do agente\" AS classe_perfil_agente,\n",
    "        \"Consumo de energia ajustado da parcela cativa da carga parcialmente livre - MWh (RC_CAT c,j)\" AS consumo_parcela_cativa,\n",
    "        \"Consumo de energia ajustado de uma parcela de carga - MWh (RC c,j)\" AS consumo_parcela_carga,\n",
    "        \"Consumo de energia no ponto de conexão da parcela de carga - MWh (MED_C c,j)\" AS consumo_ponto_conexao_parcela_carga,\n",
    "        \"Consumo no Ambiente Livre da parcela de carga - MWh (RC_AL c,j)\" AS consumo_ambiente_livre_parcela_carga,\n",
    "        \"Cód. Carga\" AS cod_carga, \n",
    "        \"Cód. Perfil\" AS cod_perfil, \n",
    "        \"Cód. Perfil Distribuidora\" AS cod_perfil_distribuidora, \n",
    "        \"Data\" AS data,\n",
    "        \"Data de Migração\" AS data_migracao, \n",
    "        \"Estado\" AS estado,\n",
    "        \"HH\" AS hora, \n",
    "        \"Nome Empresarial\" AS nome_empresarial,\n",
    "        \"Ramo de Atividade\" AS ramo_atividade, \n",
    "        \"Sigla\" AS sigla, \n",
    "        \"Sigla Perfil Distribuidora\" AS sigla_perfil_distribuidora,\n",
    "        \"Submercado\" AS submercado  \n",
    "    FROM parquet_scan('data/raw/*.parquet')\n",
    "\"\"\""
   ]
  },
  {
   "cell_type": "code",
   "execution_count": 5,
   "metadata": {},
   "outputs": [],
   "source": [
    "consumo = duckdb.sql(create_table_sql).df()"
   ]
  },
  {
   "cell_type": "code",
   "execution_count": 67,
   "metadata": {},
   "outputs": [
    {
     "data": {
      "text/html": [
       "<div>\n",
       "<style scoped>\n",
       "    .dataframe tbody tr th:only-of-type {\n",
       "        vertical-align: middle;\n",
       "    }\n",
       "\n",
       "    .dataframe tbody tr th {\n",
       "        vertical-align: top;\n",
       "    }\n",
       "\n",
       "    .dataframe thead th {\n",
       "        text-align: right;\n",
       "    }\n",
       "</style>\n",
       "<table border=\"1\" class=\"dataframe\">\n",
       "  <thead>\n",
       "    <tr style=\"text-align: right;\">\n",
       "      <th></th>\n",
       "      <th>classe_perfil_agente</th>\n",
       "      <th>consumo_parcela_carga</th>\n",
       "      <th>consumo_ponto_conexao_parcela_carga</th>\n",
       "      <th>consumo_ambiente_livre_parcela_carga</th>\n",
       "      <th>cod_perfil</th>\n",
       "      <th>data</th>\n",
       "      <th>data_migracao</th>\n",
       "      <th>hora</th>\n",
       "      <th>sigla</th>\n",
       "    </tr>\n",
       "  </thead>\n",
       "  <tbody>\n",
       "    <tr>\n",
       "      <th>0</th>\n",
       "      <td>Consumidor Especial</td>\n",
       "      <td>0,11349000000000001</td>\n",
       "      <td>0,10970899999999999</td>\n",
       "      <td>0,11349000000000001</td>\n",
       "      <td>96928</td>\n",
       "      <td>2021-04-01</td>\n",
       "      <td>2020-08-01 03:00:00</td>\n",
       "      <td>6,0</td>\n",
       "      <td>FCA ESPECIAL</td>\n",
       "    </tr>\n",
       "    <tr>\n",
       "      <th>1</th>\n",
       "      <td>Consumidor Especial</td>\n",
       "      <td>0,122617</td>\n",
       "      <td>0,118656</td>\n",
       "      <td>0,122617</td>\n",
       "      <td>96928</td>\n",
       "      <td>2021-04-01</td>\n",
       "      <td>2020-08-01 03:00:00</td>\n",
       "      <td>7,0</td>\n",
       "      <td>FCA ESPECIAL</td>\n",
       "    </tr>\n",
       "    <tr>\n",
       "      <th>2</th>\n",
       "      <td>Consumidor Especial</td>\n",
       "      <td>0,13808399999999998</td>\n",
       "      <td>0,133792</td>\n",
       "      <td>0,13808399999999998</td>\n",
       "      <td>96928</td>\n",
       "      <td>2021-04-01</td>\n",
       "      <td>2020-08-01 03:00:00</td>\n",
       "      <td>8,0</td>\n",
       "      <td>FCA ESPECIAL</td>\n",
       "    </tr>\n",
       "    <tr>\n",
       "      <th>3</th>\n",
       "      <td>Consumidor Especial</td>\n",
       "      <td>0,148534</td>\n",
       "      <td>0,143558</td>\n",
       "      <td>0,148534</td>\n",
       "      <td>96928</td>\n",
       "      <td>2021-04-01</td>\n",
       "      <td>2020-08-01 03:00:00</td>\n",
       "      <td>5,0</td>\n",
       "      <td>FCA ESPECIAL</td>\n",
       "    </tr>\n",
       "    <tr>\n",
       "      <th>4</th>\n",
       "      <td>Consumidor Especial</td>\n",
       "      <td>0,148632</td>\n",
       "      <td>0,144137</td>\n",
       "      <td>0,148632</td>\n",
       "      <td>96928</td>\n",
       "      <td>2021-04-01</td>\n",
       "      <td>2020-08-01 03:00:00</td>\n",
       "      <td>13,0</td>\n",
       "      <td>FCA ESPECIAL</td>\n",
       "    </tr>\n",
       "  </tbody>\n",
       "</table>\n",
       "</div>"
      ],
      "text/plain": [
       "  classe_perfil_agente consumo_parcela_carga  \\\n",
       "0  Consumidor Especial   0,11349000000000001   \n",
       "1  Consumidor Especial              0,122617   \n",
       "2  Consumidor Especial   0,13808399999999998   \n",
       "3  Consumidor Especial              0,148534   \n",
       "4  Consumidor Especial              0,148632   \n",
       "\n",
       "  consumo_ponto_conexao_parcela_carga consumo_ambiente_livre_parcela_carga  \\\n",
       "0                 0,10970899999999999                  0,11349000000000001   \n",
       "1                            0,118656                             0,122617   \n",
       "2                            0,133792                  0,13808399999999998   \n",
       "3                            0,143558                             0,148534   \n",
       "4                            0,144137                             0,148632   \n",
       "\n",
       "   cod_perfil       data       data_migracao  hora         sigla  \n",
       "0       96928 2021-04-01 2020-08-01 03:00:00   6,0  FCA ESPECIAL  \n",
       "1       96928 2021-04-01 2020-08-01 03:00:00   7,0  FCA ESPECIAL  \n",
       "2       96928 2021-04-01 2020-08-01 03:00:00   8,0  FCA ESPECIAL  \n",
       "3       96928 2021-04-01 2020-08-01 03:00:00   5,0  FCA ESPECIAL  \n",
       "4       96928 2021-04-01 2020-08-01 03:00:00  13,0  FCA ESPECIAL  "
      ]
     },
     "execution_count": 67,
     "metadata": {},
     "output_type": "execute_result"
    }
   ],
   "source": [
    "consumo.head()"
   ]
  },
  {
   "cell_type": "markdown",
   "metadata": {
    "id": "M2-k7iLsRpQI"
   },
   "source": [
    "# Dataprep"
   ]
  },
  {
   "cell_type": "code",
   "execution_count": 7,
   "metadata": {
    "id": "IERnHSsjLh6Y"
   },
   "outputs": [],
   "source": [
    "def list_columns_repeated_classes(dataframe):\n",
    "  \"\"\"\n",
    "    List all columns with repeated classes in data\n",
    "    \n",
    "    Parameters\n",
    "    -------------\n",
    "    dataframe: pd.dataframe\n",
    "        A pandas dataframe containing the data.\n",
    "\n",
    "    Returns\n",
    "    -------------\n",
    "    columns_unwanted: list\n",
    "        A list of variables unwanted according to repeated classes criterion.\n",
    "  \"\"\"\n",
    "  columns_unwanted = []\n",
    "  for column in dataframe.columns:\n",
    "    value_counts_ = dataframe[column].value_counts()\n",
    "    if dataframe[column].nunique() == 1:\n",
    "      columns_unwanted.append(column)\n",
    "    elif (value_counts_.values[0] == value_counts_).all() and (value_counts_.shape[0] == 3):\n",
    "      columns_unwanted.append(column)\n",
    "  return columns_unwanted"
   ]
  },
  {
   "cell_type": "code",
   "execution_count": 8,
   "metadata": {
    "id": "dFKXvXzwLT5u"
   },
   "outputs": [],
   "source": [
    "columns_repeated_class = list_columns_repeated_classes(consumo)"
   ]
  },
  {
   "cell_type": "code",
   "execution_count": 9,
   "metadata": {
    "id": "3m3KMHKKNIeL"
   },
   "outputs": [],
   "source": [
    "consumo = consumo.drop(columns = columns_repeated_class)"
   ]
  },
  {
   "cell_type": "markdown",
   "metadata": {},
   "source": [
    "Seleção das variáveis de interesse."
   ]
  },
  {
   "cell_type": "code",
   "execution_count": 21,
   "metadata": {
    "id": "DUK1fHHyFxot"
   },
   "outputs": [],
   "source": [
    "consumo_reduced = consumo[\n",
    "    [\n",
    "        'sigla',\n",
    "        'classe_perfil_agente',\n",
    "        'data',\n",
    "        'hora',\n",
    "        'consumo_ambiente_livre_parcela_carga',\n",
    "        'consumo_parcela_carga',\n",
    "        'consumo_ponto_conexao_parcela_carga'\n",
    "        ]\n",
    "].copy()"
   ]
  },
  {
   "cell_type": "markdown",
   "metadata": {},
   "source": [
    "### Transformação das variáveis para float\n",
    "\n",
    "As variáveis abaixo devem ser analisadas como float, mas estão salvas como string separadas por \",\". Iremos transformá-las."
   ]
  },
  {
   "cell_type": "code",
   "execution_count": 23,
   "metadata": {
    "id": "hlgTXiAjIqXK"
   },
   "outputs": [],
   "source": [
    "string_to_float_columns = [\n",
    "    'hora',\n",
    "    'consumo_ambiente_livre_parcela_carga',\n",
    "    'consumo_parcela_carga',\n",
    "    'consumo_ponto_conexao_parcela_carga'\n",
    "]"
   ]
  },
  {
   "cell_type": "code",
   "execution_count": 24,
   "metadata": {
    "id": "V0_odqbAJWb_"
   },
   "outputs": [],
   "source": [
    "consumo_reduced[string_to_float_columns] = consumo_reduced[string_to_float_columns]\\\n",
    ".map(lambda x: x.replace(',', '.'))\\\n",
    ".astype(float)"
   ]
  },
  {
   "cell_type": "markdown",
   "metadata": {},
   "source": [
    "### Transformação das variáveis de interesse em uma\n",
    "\n",
    "**Obs.:** Via conhecimento de especialistas, trabalharemos com a soma das variáveis de consumo. No entanto, um estudo mais detalhado pode ser realizado, para isso, devemos resolver um problema de séries temporais multivariado."
   ]
  },
  {
   "cell_type": "code",
   "execution_count": 25,
   "metadata": {
    "id": "1VuqQ04QKcwG"
   },
   "outputs": [],
   "source": [
    "consume_columns = consumo_reduced.filter(like = 'consumo').columns.tolist()"
   ]
  },
  {
   "cell_type": "code",
   "execution_count": 26,
   "metadata": {
    "id": "6Ce03vavHWZ2"
   },
   "outputs": [],
   "source": [
    "consumo_reduced['consumo'] = consumo_reduced.filter(like = 'consumo').sum(axis = 1)"
   ]
  },
  {
   "cell_type": "code",
   "execution_count": 27,
   "metadata": {
    "id": "iAvHZQ0lHWBH"
   },
   "outputs": [],
   "source": [
    "consumo_reduced = consumo_reduced.drop(columns = consume_columns)"
   ]
  },
  {
   "cell_type": "code",
   "execution_count": 28,
   "metadata": {
    "colab": {
     "base_uri": "https://localhost:8080/",
     "height": 424
    },
    "id": "X8o8dXdjKllA",
    "outputId": "1806fdc6-cc51-43f1-f164-e6310b61b674"
   },
   "outputs": [
    {
     "data": {
      "text/html": [
       "<div>\n",
       "<style scoped>\n",
       "    .dataframe tbody tr th:only-of-type {\n",
       "        vertical-align: middle;\n",
       "    }\n",
       "\n",
       "    .dataframe tbody tr th {\n",
       "        vertical-align: top;\n",
       "    }\n",
       "\n",
       "    .dataframe thead th {\n",
       "        text-align: right;\n",
       "    }\n",
       "</style>\n",
       "<table border=\"1\" class=\"dataframe\">\n",
       "  <thead>\n",
       "    <tr style=\"text-align: right;\">\n",
       "      <th></th>\n",
       "      <th>sigla</th>\n",
       "      <th>classe_perfil_agente</th>\n",
       "      <th>data</th>\n",
       "      <th>hora</th>\n",
       "      <th>consumo</th>\n",
       "    </tr>\n",
       "  </thead>\n",
       "  <tbody>\n",
       "    <tr>\n",
       "      <th>0</th>\n",
       "      <td>FCA ESPECIAL</td>\n",
       "      <td>Consumidor Especial</td>\n",
       "      <td>2021-04-01</td>\n",
       "      <td>6.0</td>\n",
       "      <td>0.336689</td>\n",
       "    </tr>\n",
       "    <tr>\n",
       "      <th>1</th>\n",
       "      <td>FCA ESPECIAL</td>\n",
       "      <td>Consumidor Especial</td>\n",
       "      <td>2021-04-01</td>\n",
       "      <td>7.0</td>\n",
       "      <td>0.363890</td>\n",
       "    </tr>\n",
       "    <tr>\n",
       "      <th>2</th>\n",
       "      <td>FCA ESPECIAL</td>\n",
       "      <td>Consumidor Especial</td>\n",
       "      <td>2021-04-01</td>\n",
       "      <td>8.0</td>\n",
       "      <td>0.409960</td>\n",
       "    </tr>\n",
       "    <tr>\n",
       "      <th>3</th>\n",
       "      <td>FCA ESPECIAL</td>\n",
       "      <td>Consumidor Especial</td>\n",
       "      <td>2021-04-01</td>\n",
       "      <td>5.0</td>\n",
       "      <td>0.440626</td>\n",
       "    </tr>\n",
       "    <tr>\n",
       "      <th>4</th>\n",
       "      <td>FCA ESPECIAL</td>\n",
       "      <td>Consumidor Especial</td>\n",
       "      <td>2021-04-01</td>\n",
       "      <td>13.0</td>\n",
       "      <td>0.441401</td>\n",
       "    </tr>\n",
       "    <tr>\n",
       "      <th>...</th>\n",
       "      <td>...</td>\n",
       "      <td>...</td>\n",
       "      <td>...</td>\n",
       "      <td>...</td>\n",
       "      <td>...</td>\n",
       "    </tr>\n",
       "    <tr>\n",
       "      <th>65803</th>\n",
       "      <td>FIAT AUTOCL 514 23</td>\n",
       "      <td>Consumidor Livre</td>\n",
       "      <td>2023-08-09</td>\n",
       "      <td>19.0</td>\n",
       "      <td>1.074097</td>\n",
       "    </tr>\n",
       "    <tr>\n",
       "      <th>65804</th>\n",
       "      <td>FIAT AUTOCL 514 23</td>\n",
       "      <td>Consumidor Livre</td>\n",
       "      <td>2023-08-09</td>\n",
       "      <td>20.0</td>\n",
       "      <td>1.027133</td>\n",
       "    </tr>\n",
       "    <tr>\n",
       "      <th>65805</th>\n",
       "      <td>FIAT AUTOCL 514 23</td>\n",
       "      <td>Consumidor Livre</td>\n",
       "      <td>2023-08-09</td>\n",
       "      <td>21.0</td>\n",
       "      <td>0.994397</td>\n",
       "    </tr>\n",
       "    <tr>\n",
       "      <th>65806</th>\n",
       "      <td>FIAT AUTOCL 514 23</td>\n",
       "      <td>Consumidor Livre</td>\n",
       "      <td>2023-08-09</td>\n",
       "      <td>22.0</td>\n",
       "      <td>1.008769</td>\n",
       "    </tr>\n",
       "    <tr>\n",
       "      <th>65807</th>\n",
       "      <td>FIAT AUTOCL 514 23</td>\n",
       "      <td>Consumidor Livre</td>\n",
       "      <td>2023-08-09</td>\n",
       "      <td>23.0</td>\n",
       "      <td>0.995524</td>\n",
       "    </tr>\n",
       "  </tbody>\n",
       "</table>\n",
       "<p>65808 rows × 5 columns</p>\n",
       "</div>"
      ],
      "text/plain": [
       "                    sigla classe_perfil_agente       data  hora   consumo\n",
       "0            FCA ESPECIAL  Consumidor Especial 2021-04-01   6.0  0.336689\n",
       "1            FCA ESPECIAL  Consumidor Especial 2021-04-01   7.0  0.363890\n",
       "2            FCA ESPECIAL  Consumidor Especial 2021-04-01   8.0  0.409960\n",
       "3            FCA ESPECIAL  Consumidor Especial 2021-04-01   5.0  0.440626\n",
       "4            FCA ESPECIAL  Consumidor Especial 2021-04-01  13.0  0.441401\n",
       "...                   ...                  ...        ...   ...       ...\n",
       "65803  FIAT AUTOCL 514 23     Consumidor Livre 2023-08-09  19.0  1.074097\n",
       "65804  FIAT AUTOCL 514 23     Consumidor Livre 2023-08-09  20.0  1.027133\n",
       "65805  FIAT AUTOCL 514 23     Consumidor Livre 2023-08-09  21.0  0.994397\n",
       "65806  FIAT AUTOCL 514 23     Consumidor Livre 2023-08-09  22.0  1.008769\n",
       "65807  FIAT AUTOCL 514 23     Consumidor Livre 2023-08-09  23.0  0.995524\n",
       "\n",
       "[65808 rows x 5 columns]"
      ]
     },
     "execution_count": 28,
     "metadata": {},
     "output_type": "execute_result"
    }
   ],
   "source": [
    "consumo_reduced"
   ]
  },
  {
   "cell_type": "markdown",
   "metadata": {
    "id": "AfvDIVqFRr8F"
   },
   "source": [
    "# Feature Engineering e Análise"
   ]
  },
  {
   "cell_type": "markdown",
   "metadata": {},
   "source": [
    "### Transformação da série para o diário\n",
    "Facultativamente decidida para o projeto, outras faixas de tempo podem ser consideradas em estudos futuros."
   ]
  },
  {
   "cell_type": "code",
   "execution_count": 70,
   "metadata": {},
   "outputs": [],
   "source": [
    "daily_consume = consumo_reduced\\\n",
    ".groupby(['sigla', 'classe_perfil_agente', 'data'])['consumo']\\\n",
    ".sum()\\\n",
    ".reset_index()"
   ]
  },
  {
   "cell_type": "markdown",
   "metadata": {},
   "source": [
    "### Análise de dados faltantes\n",
    "Busca por dados faltantes que causam lacunas na série e podem trazer problemas de quebra do processo estocástico.\n",
    "\n",
    "Para esta verificação selecionamos as datas iniciais e finais com objetivo de criar uma série (pandas) com todos os dias dos meses ao longo desse intervalo. Em seguida, checamos se há algum valor faltando na nossa série temporal."
   ]
  },
  {
   "cell_type": "code",
   "execution_count": 71,
   "metadata": {},
   "outputs": [],
   "source": [
    "first_day = daily_consume['data'].min()\n",
    "last_day = daily_consume['data'].max()"
   ]
  },
  {
   "cell_type": "code",
   "execution_count": 72,
   "metadata": {},
   "outputs": [],
   "source": [
    "observational_temporal_interval = (last_day - first_day).days"
   ]
  },
  {
   "cell_type": "code",
   "execution_count": 131,
   "metadata": {},
   "outputs": [],
   "source": [
    "timestamp_list = [first_day + timedelta(days=x) for x in range(observational_temporal_interval + 1)] \n",
    "timestamp_list = pd.Series(timestamp_list)"
   ]
  },
  {
   "cell_type": "markdown",
   "metadata": {},
   "source": [
    "Identificamos que há um dia faltante na série temporal. Neste caso iremos imputar via interpolação."
   ]
  },
  {
   "cell_type": "code",
   "execution_count": 137,
   "metadata": {},
   "outputs": [],
   "source": [
    "missing_date = timestamp_list[~timestamp_list.isin(daily_consume['data'])]"
   ]
  },
  {
   "cell_type": "markdown",
   "metadata": {},
   "source": [
    "Observamos que não há valores faltantes. Neste caso, interpolação não é necessário."
   ]
  },
  {
   "cell_type": "code",
   "execution_count": 140,
   "metadata": {},
   "outputs": [
    {
     "data": {
      "text/plain": [
       "Series([], dtype: datetime64[ns])"
      ]
     },
     "execution_count": 140,
     "metadata": {},
     "output_type": "execute_result"
    }
   ],
   "source": [
    "missing_date"
   ]
  },
  {
   "cell_type": "markdown",
   "metadata": {},
   "source": [
    "### Análise da distribuição de probabilidade"
   ]
  },
  {
   "cell_type": "code",
   "execution_count": 143,
   "metadata": {},
   "outputs": [
    {
     "data": {
      "image/png": "[encoded data removed]",
      "text/plain": [
       "<Figure size 640x480 with 1 Axes>"
      ]
     },
     "metadata": {},
     "output_type": "display_data"
    }
   ],
   "source": [
    "sns.boxplot(data = consumo_reduced, x = 'sigla', y = 'consumo', hue = 'sigla');"
   ]
  },
  {
   "cell_type": "markdown",
   "metadata": {},
   "source": [
    "# TODO - Analisar histogramas por `sigla`"
   ]
  },
  {
   "cell_type": "code",
   "execution_count": 146,
   "metadata": {},
   "outputs": [
    {
     "data": {
      "image/png": "[encoded data removed]",
      "text/plain": [
       "<Figure size 640x480 with 1 Axes>"
      ]
     },
     "metadata": {},
     "output_type": "display_data"
    }
   ],
   "source": [
    "sns.kdeplot(data = consumo_reduced, x = 'consumo', hue = 'sigla', );"
   ]
  },
  {
   "cell_type": "markdown",
   "metadata": {
    "id": "y5ORAYs9VRcB"
   },
   "source": [
    "## TODO - Feature Engineering\n",
    "\n",
    "- Feriados: https://github.com/joaopbini/feriados-brasil/tree/master/dados/feriados/nacional/csv"
   ]
  },
  {
   "cell_type": "code",
   "execution_count": null,
   "metadata": {
    "id": "7_PUZsdDU1EN"
   },
   "outputs": [],
   "source": []
  },
  {
   "cell_type": "code",
   "execution_count": null,
   "metadata": {
    "id": "v2SN2jYiCNXl"
   },
   "outputs": [],
   "source": []
  }
 ],
 "metadata": {
  "colab": {
   "provenance": []
  },
  "kernelspec": {
   "display_name": "Python 3 (ipykernel)",
   "language": "python",
   "name": "python3"
  },
  "language_info": {
   "codemirror_mode": {
    "name": "ipython",
    "version": 3
   },
   "file_extension": ".py",
   "mimetype": "text/x-python",
   "name": "python",
   "nbconvert_exporter": "python",
   "pygments_lexer": "ipython3",
   "version": "3.10.13"
  }
 },
 "nbformat": 4,
 "nbformat_minor": 4
}
