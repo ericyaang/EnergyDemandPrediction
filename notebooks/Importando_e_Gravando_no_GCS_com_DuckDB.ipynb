{
  "nbformat": 4,
  "nbformat_minor": 0,
  "metadata": {
    "colab": {
      "provenance": []
    },
    "kernelspec": {
      "name": "python3",
      "display_name": "Python 3"
    },
    "language_info": {
      "name": "python"
    }
  },
  "cells": [
    {
      "cell_type": "markdown",
      "source": [
        "# Acesso ao GCS com DuckDB\n",
        "\n",
        "Você pode acessar o bucket manualmente através do [console do google cloud](https://console.cloud.google.com/storage/browser/fiat_betim).\n",
        "\n",
        "Ao executar todas as células você automaticamente grava a versão mais recente da tabela pronta pra predição e a tabela completa para exploração dentro do bucket. Posteriomente, pode-se refatorar e automatizar o processo com o Airflow.\n"
      ],
      "metadata": {
        "id": "mzmiXrVhH21J"
      }
    },
    {
      "cell_type": "markdown",
      "source": [
        "### Setup"
      ],
      "metadata": {
        "id": "oPfcbGGZxDWh"
      }
    },
    {
      "cell_type": "code",
      "execution_count": 2,
      "metadata": {
        "id": "pIUm4GKC2yIh"
      },
      "outputs": [],
      "source": [
        "import duckdb\n",
        "\n",
        "duckdb.sql('INSTALL httpfs')\n",
        "duckdb.sql('LOAD httpfs')\n",
        "duckdb.sql(\"SET s3_endpoint='storage.googleapis.com'\")\n"
      ]
    },
    {
      "cell_type": "markdown",
      "source": [
        "### Credenciais"
      ],
      "metadata": {
        "id": "TaJvGCvPxILQ"
      }
    },
    {
      "cell_type": "code",
      "source": [
        "# configuring settings in the Google Console.\n",
        "duckdb.sql(f\"SET s3_access_key_id='GOOG1E2RA7XOROH2K2IOR6BAL6I4IUEELSXABOH2YSEA5JDP5VC44U2MTJP3B'\")\n",
        "# configuring settings in the Google Console.\n",
        "duckdb.sql(f\"SET s3_secret_access_key='Au0oXGxypbfM2yvcGqUSte6I3U0r2h6oF/q38IcG'\")"
      ],
      "metadata": {
        "id": "b3Iae8ne25cR"
      },
      "execution_count": 3,
      "outputs": []
    },
    {
      "cell_type": "markdown",
      "source": [
        "### Lendo todos os arquivos dentro do diretório /raw"
      ],
      "metadata": {
        "id": "4Mlsc-TbxPMa"
      }
    },
    {
      "cell_type": "code",
      "source": [
        "create_table_sql = \"\"\"\n",
        "    CREATE TABLE fiat_betim AS\n",
        "    SELECT\n",
        "      \"CNPJ da Carga\" AS cnpj_carga,\n",
        "      \"Capacidade da Carga (MW)\" AS capacidade_carga_mw,\n",
        "      \"Carga\" AS carga,\n",
        "      \"Cidade\" AS cidade,\n",
        "      \"Classe do perfil do agente\" AS classe_perfil_agente,\n",
        "      \"Consumo de energia ajustado da parcela cativa da carga parcialmente livre - MWh (RC_CAT c,j)\" AS consumo_rc_cat,\n",
        "      \"Consumo de energia ajustado de uma parcela de carga - MWh (RC c,j)\" AS consumo_rc,\n",
        "      \"Consumo de energia no ponto de conexão da parcela de carga - MWh (MED_C c,j)\" AS consumo_med_c,\n",
        "      \"Consumo no Ambiente Livre da parcela de carga - MWh (RC_AL c,j)\" AS consumo_rc_al,\n",
        "      \"Cód. Carga\" AS cod_carga,\n",
        "      \"Cód. Perfil\" AS cod_perfil,\n",
        "      \"Cód. Perfil Distribuidora\" AS cod_perfil_distribuidora,\n",
        "      \"Data\" AS data,\n",
        "      \"Data de Migração\" AS data_migracao,\n",
        "      \"Estado\" AS estado,\n",
        "      \"HH\" AS hora,\n",
        "      \"Nome Empresarial\" AS nome_empresarial,\n",
        "      \"Ramo de Atividade\" AS ramo_atividade,\n",
        "      \"Sigla\" AS sigla,\n",
        "      \"Sigla Perfil Distribuidora\" AS sigla_perfil_distribuidora,\n",
        "      \"Submercado\" AS submercado,\n",
        "      \"CNAE\" AS cnae\n",
        "    FROM read_parquet('s3://fiat_betim/raw/*.parquet', union_by_name=true)\n",
        "\"\"\"\n",
        "\n",
        "duckdb.sql(create_table_sql)"
      ],
      "metadata": {
        "id": "DHZYn-1j7v4Y"
      },
      "execution_count": 3,
      "outputs": []
    },
    {
      "cell_type": "code",
      "source": [
        "duckdb.sql(\"describe fiat_betim\")"
      ],
      "metadata": {
        "colab": {
          "base_uri": "https://localhost:8080/"
        },
        "id": "AHYVxWKl8bmq",
        "outputId": "97bfde35-c3aa-44c8-ba61-98292a20c40e"
      },
      "execution_count": 7,
      "outputs": [
        {
          "output_type": "execute_result",
          "data": {
            "text/plain": [
              "┌────────────────────────────┬─────────────┬─────────┬─────────┬─────────┬───────┐\n",
              "│        column_name         │ column_type │  null   │   key   │ default │ extra │\n",
              "│          varchar           │   varchar   │ varchar │ varchar │ varchar │ int32 │\n",
              "├────────────────────────────┼─────────────┼─────────┼─────────┼─────────┼───────┤\n",
              "│ cnpj_carga                 │ VARCHAR     │ YES     │ NULL    │ NULL    │  NULL │\n",
              "│ capacidade_carga_mw        │ VARCHAR     │ YES     │ NULL    │ NULL    │  NULL │\n",
              "│ carga                      │ VARCHAR     │ YES     │ NULL    │ NULL    │  NULL │\n",
              "│ classe_perfil_agente       │ VARCHAR     │ YES     │ NULL    │ NULL    │  NULL │\n",
              "│ consumo_rc_cat             │ VARCHAR     │ YES     │ NULL    │ NULL    │  NULL │\n",
              "│ consumo_rc                 │ VARCHAR     │ YES     │ NULL    │ NULL    │  NULL │\n",
              "│ consumo_med_c              │ VARCHAR     │ YES     │ NULL    │ NULL    │  NULL │\n",
              "│ consumo_rc_al              │ VARCHAR     │ YES     │ NULL    │ NULL    │  NULL │\n",
              "│ cod_carga                  │ BIGINT      │ YES     │ NULL    │ NULL    │  NULL │\n",
              "│ cod_perfil                 │ BIGINT      │ YES     │ NULL    │ NULL    │  NULL │\n",
              "│ data                       │ DATE        │ YES     │ NULL    │ NULL    │  NULL │\n",
              "│ data_migracao              │ TIMESTAMP   │ YES     │ NULL    │ NULL    │  NULL │\n",
              "│ hora                       │ VARCHAR     │ YES     │ NULL    │ NULL    │  NULL │\n",
              "│ sigla                      │ VARCHAR     │ YES     │ NULL    │ NULL    │  NULL │\n",
              "│ sigla_perfil_distribuidora │ VARCHAR     │ YES     │ NULL    │ NULL    │  NULL │\n",
              "├────────────────────────────┴─────────────┴─────────┴─────────┴─────────┴───────┤\n",
              "│ 15 rows                                                              6 columns │\n",
              "└────────────────────────────────────────────────────────────────────────────────┘"
            ]
          },
          "metadata": {},
          "execution_count": 7
        }
      ]
    },
    {
      "cell_type": "markdown",
      "source": [
        "### Dropando variáveis redundantes\n",
        "\n",
        "- `ramo_atividade` e `cnae` estão vinculados com o `cnpj_carga`\n",
        "- `cidade` e `estado` são BETIM, MG.\n",
        "- `submercado` refere-se à região geoelétrica do local determinado pelo SIN, do qual é sudeste para Betim, MG.\n",
        "- `nome_empresarial` refere-se ao nome que consta no cadastro de `cnpj_carga`, FCA FIAT CHRYSLER AUTOMOVEIS BRASIL LTDA."
      ],
      "metadata": {
        "id": "wWlzjhhawUXR"
      }
    },
    {
      "cell_type": "code",
      "source": [
        "drop_columns_query = \"\"\"\n",
        "ALTER TABLE fiat_betim DROP COLUMN ramo_atividade;\n",
        "ALTER TABLE fiat_betim DROP COLUMN cnae;\n",
        "ALTER TABLE fiat_betim DROP COLUMN cidade;\n",
        "ALTER TABLE fiat_betim DROP COLUMN estado;\n",
        "ALTER TABLE fiat_betim DROP COLUMN submercado;\n",
        "ALTER TABLE fiat_betim DROP COLUMN nome_empresarial;\n",
        "ALTER TABLE fiat_betim DROP COLUMN cod_perfil_distribuidora;\n",
        "\"\"\"\n",
        "\n",
        "duckdb.sql(drop_columns_query)"
      ],
      "metadata": {
        "id": "hPer6UXa8vkZ"
      },
      "execution_count": 5,
      "outputs": []
    },
    {
      "cell_type": "markdown",
      "source": [
        "### Corrigindo formatação"
      ],
      "metadata": {
        "id": "NXjYoAt-wdE9"
      }
    },
    {
      "cell_type": "code",
      "source": [
        "format_columns_query=\"\"\"\n",
        "UPDATE fiat_betim\n",
        "SET\n",
        "    hora = CAST(REPLACE(hora, ',', '.') AS BIGINT),\n",
        "    capacidade_carga_mw = CAST(REPLACE(capacidade_carga_mw, ',', '.') AS DOUBLE),\n",
        "    consumo_rc_cat = CAST(REPLACE(consumo_rc_cat, ',', '.') AS DOUBLE),\n",
        "    consumo_rc = CAST(REPLACE(consumo_rc, ',', '.') AS DOUBLE),\n",
        "    consumo_med_c = CAST(REPLACE(consumo_med_c, ',', '.') AS DOUBLE),\n",
        "    consumo_rc_al = CAST(REPLACE(consumo_rc_al, ',', '.') AS DOUBLE),\n",
        "    cnpj_carga = REPLACE(cnpj_carga, ',', '.'),\n",
        "    data_migracao = CAST(data_migracao AS DATE);\n",
        "\n",
        "\"\"\"\n",
        "duckdb.sql(format_columns_query)"
      ],
      "metadata": {
        "id": "z8AuKwIG94vj"
      },
      "execution_count": 8,
      "outputs": []
    },
    {
      "cell_type": "markdown",
      "source": [
        "### Criando Schema\n",
        "\n",
        "Isso pode ser útil para o BigQuery."
      ],
      "metadata": {
        "id": "KciyfOJewjZ6"
      }
    },
    {
      "cell_type": "code",
      "source": [
        "create_schema_query=\"\"\"\n",
        "CREATE TABLE new_fiat_betim (\n",
        "    cnpj_carga VARCHAR,\n",
        "    capacidade_carga_mw DOUBLE,\n",
        "    carga VARCHAR,\n",
        "    classe_perfil_agente VARCHAR,\n",
        "    consumo_rc_cat DOUBLE,\n",
        "    consumo_rc DOUBLE,\n",
        "    consumo_med_c DOUBLE,\n",
        "    consumo_rc_al DOUBLE,\n",
        "    cod_carga BIGINT,\n",
        "    cod_perfil BIGINT,\n",
        "    data DATE,\n",
        "    data_migracao DATE,\n",
        "    hora BIGINT,\n",
        "    sigla VARCHAR,\n",
        "    sigla_perfil_distribuidora VARCHAR\n",
        ");\n",
        "\n",
        "\"\"\"\n",
        "duckdb.sql(create_schema_query)"
      ],
      "metadata": {
        "id": "GiCQmSv2-fXB"
      },
      "execution_count": 11,
      "outputs": []
    },
    {
      "cell_type": "markdown",
      "source": [
        "### Criando nova tabela e inserindo tabela anterior"
      ],
      "metadata": {
        "id": "D74QvUKiwnKu"
      }
    },
    {
      "cell_type": "code",
      "source": [
        "create_schema_query=\"\"\"\n",
        "INSERT INTO new_fiat_betim\n",
        "SELECT\n",
        "    cnpj_carga,\n",
        "    CAST(NULLIF(capacidade_carga_mw, '') AS DOUBLE),\n",
        "    carga,\n",
        "    classe_perfil_agente,\n",
        "    CAST(NULLIF(consumo_rc_cat, '') AS DOUBLE),\n",
        "    CAST(NULLIF(consumo_rc, '') AS DOUBLE),\n",
        "    CAST(NULLIF(consumo_med_c, '') AS DOUBLE),\n",
        "    CAST(NULLIF(consumo_rc_al, '') AS DOUBLE),\n",
        "    cod_carga,\n",
        "    cod_perfil,\n",
        "    data,\n",
        "    CAST(data_migracao AS DATE),\n",
        "    CAST(hora AS BIGINT),\n",
        "    sigla,\n",
        "    sigla_perfil_distribuidora\n",
        "FROM fiat_betim;\n",
        "DROP TABLE fiat_betim;\n",
        "\"\"\"\n",
        "duckdb.sql(create_schema_query)"
      ],
      "metadata": {
        "id": "mV3cUam9-p_a"
      },
      "execution_count": 12,
      "outputs": []
    },
    {
      "cell_type": "code",
      "source": [
        "duckdb.sql(\"describe new_fiat_betim\")"
      ],
      "metadata": {
        "colab": {
          "base_uri": "https://localhost:8080/"
        },
        "id": "G0ilKz8OAdcg",
        "outputId": "37b2fcb9-8f59-4260-c7a8-3fdb5a93e308"
      },
      "execution_count": 13,
      "outputs": [
        {
          "output_type": "execute_result",
          "data": {
            "text/plain": [
              "┌────────────────────────────┬─────────────┬─────────┬─────────┬─────────┬───────┐\n",
              "│        column_name         │ column_type │  null   │   key   │ default │ extra │\n",
              "│          varchar           │   varchar   │ varchar │ varchar │ varchar │ int32 │\n",
              "├────────────────────────────┼─────────────┼─────────┼─────────┼─────────┼───────┤\n",
              "│ cnpj_carga                 │ VARCHAR     │ YES     │ NULL    │ NULL    │  NULL │\n",
              "│ capacidade_carga_mw        │ DOUBLE      │ YES     │ NULL    │ NULL    │  NULL │\n",
              "│ carga                      │ VARCHAR     │ YES     │ NULL    │ NULL    │  NULL │\n",
              "│ classe_perfil_agente       │ VARCHAR     │ YES     │ NULL    │ NULL    │  NULL │\n",
              "│ consumo_rc_cat             │ DOUBLE      │ YES     │ NULL    │ NULL    │  NULL │\n",
              "│ consumo_rc                 │ DOUBLE      │ YES     │ NULL    │ NULL    │  NULL │\n",
              "│ consumo_med_c              │ DOUBLE      │ YES     │ NULL    │ NULL    │  NULL │\n",
              "│ consumo_rc_al              │ DOUBLE      │ YES     │ NULL    │ NULL    │  NULL │\n",
              "│ cod_carga                  │ BIGINT      │ YES     │ NULL    │ NULL    │  NULL │\n",
              "│ cod_perfil                 │ BIGINT      │ YES     │ NULL    │ NULL    │  NULL │\n",
              "│ data                       │ DATE        │ YES     │ NULL    │ NULL    │  NULL │\n",
              "│ data_migracao              │ DATE        │ YES     │ NULL    │ NULL    │  NULL │\n",
              "│ hora                       │ BIGINT      │ YES     │ NULL    │ NULL    │  NULL │\n",
              "│ sigla                      │ VARCHAR     │ YES     │ NULL    │ NULL    │  NULL │\n",
              "│ sigla_perfil_distribuidora │ VARCHAR     │ YES     │ NULL    │ NULL    │  NULL │\n",
              "├────────────────────────────┴─────────────┴─────────┴─────────┴─────────┴───────┤\n",
              "│ 15 rows                                                              6 columns │\n",
              "└────────────────────────────────────────────────────────────────────────────────┘"
            ]
          },
          "metadata": {},
          "execution_count": 13
        }
      ]
    },
    {
      "cell_type": "markdown",
      "source": [
        "### Salvando a tabela final no diretório /clean\n",
        "\n",
        "Esta tabela apenas contém as variáveis de interesse para a predição como o consumo, data e hora. E referente à filial FA FILIAL MEC.\n",
        "\n",
        "#### Pressupostos\n",
        "\n",
        "H1: `consumo_med_c` reflete o valor mais próximo do valor medido pela fábrica.\n",
        "- O consumo será medida pelo consumo de energia no ponto de conexão da parcela de carga - MWh (MED_C c,j), pois é a versão bruta e mais imediata do consumo. É o valor mais próximo do consumo real e imediato da fábrica.\n",
        "\n",
        "H2: A filial identificada com a sigla `FA FILIAL MEC` é a nossa fábrica de interesse por focar exclusivamente na fabricação.\n",
        "- Se supõe que a filial se dedica exclusivamente na fabricação de motores para automóveis, camionetas e utilitários."
      ],
      "metadata": {
        "id": "vW7eob8WwvUj"
      }
    },
    {
      "cell_type": "code",
      "source": [
        "export_filial_mec_dataset=\"\"\"\n",
        "COPY(SELECT\n",
        "    data,\n",
        "    hora,\n",
        "    consumo_med_c,\n",
        "FROM new_fiat_betim\n",
        "WHERE sigla = 'FA FILIAL MEC')\n",
        "TO 's3://fiat_betim/clean/fiat_filial_mec.parquet' (FORMAT PARQUET);\n",
        "\"\"\"\n",
        "duckdb.sql(export_filial_mec_dataset)"
      ],
      "metadata": {
        "id": "YTAgWgEF_opp"
      },
      "execution_count": 17,
      "outputs": []
    },
    {
      "cell_type": "markdown",
      "source": [
        "### Salvando a tabela completa para exploração\n",
        "A tabela contendo todas as colunas para fins de exploração.\n",
        "A versão completa possibilita"
      ],
      "metadata": {
        "id": "HZCxNr050LhY"
      }
    },
    {
      "cell_type": "code",
      "source": [
        "export_all_dataset=\"\"\"\n",
        "COPY(SELECT *\n",
        "FROM new_fiat_betim)\n",
        "TO 's3://fiat_betim/clean/fiat_all.parquet' (FORMAT PARQUET);\n",
        "\"\"\"\n",
        "duckdb.sql(export_all_dataset)"
      ],
      "metadata": {
        "id": "t6Qw3H8Az_cm"
      },
      "execution_count": null,
      "outputs": []
    }
  ]
}